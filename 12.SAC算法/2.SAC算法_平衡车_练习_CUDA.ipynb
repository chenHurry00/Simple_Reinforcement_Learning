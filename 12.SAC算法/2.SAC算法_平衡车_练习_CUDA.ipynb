{
 "cells": [
  {
   "cell_type": "code",
   "execution_count": 3,
   "metadata": {},
   "outputs": [
    {
     "name": "stdout",
     "output_type": "stream",
     "text": [
      "Using device: cuda \n",
      "Selected GPU index: 0, GPU name: NVIDIA GeForce RTX 2080 Ti\n"
     ]
    },
    {
     "data": {
      "text/plain": [
       "array([-0.03230159,  0.02861641, -0.03100644,  0.03228856], dtype=float32)"
      ]
     },
     "execution_count": 3,
     "metadata": {},
     "output_type": "execute_result"
    }
   ],
   "source": [
    "import gym\n",
    "import os\n",
    "import torch\n",
    "\n",
    "# 设置使用特定的GPU（例如选择第0张GPU）\n",
    "os.environ[\"CUDA_VISIBLE_DEVICES\"] = \"0\"  # 限制可见的GPU为第0张\n",
    "device = torch.device(\"cuda\" if torch.cuda.is_available() else \"cpu\")\n",
    "print(f\"Using device: {device} \")\n",
    "# 验证选中的GPU\n",
    "if torch.cuda.is_available():\n",
    "    current_device = torch.cuda.current_device()\n",
    "    device_name = torch.cuda.get_device_name(current_device)\n",
    "    print(f\"Selected GPU index: {current_device}, GPU name: {device_name}\")\n",
    "else:\n",
    "    print(\"No GPU available, using CPU\")\n",
    "\n",
    "#定义环境\n",
    "class MyWrapper(gym.Wrapper):\n",
    "\n",
    "    def __init__(self):\n",
    "        env = gym.make('CartPole-v1', render_mode='rgb_array')\n",
    "        super().__init__(env)\n",
    "        self.env = env\n",
    "        self.step_n = 0\n",
    "\n",
    "    def reset(self):\n",
    "        state, _ = self.env.reset()\n",
    "        self.step_n = 0\n",
    "        return state\n",
    "\n",
    "    def step(self, action):\n",
    "        state, reward, terminated, truncated, info = self.env.step(action)\n",
    "        done = terminated or truncated\n",
    "        self.step_n += 1\n",
    "        if self.step_n >= 200:\n",
    "            done = True\n",
    "        return state, reward, done, info\n",
    "\n",
    "\n",
    "env = MyWrapper()\n",
    "\n",
    "env.reset()"
   ]
  },
  {
   "cell_type": "code",
   "execution_count": 4,
   "metadata": {},
   "outputs": [
    {
     "data": {
      "image/png": "[encoded data removed]",
      "text/plain": [
       "<Figure size 640x480 with 1 Axes>"
      ]
     },
     "metadata": {},
     "output_type": "display_data"
    }
   ],
   "source": [
    "from matplotlib import pyplot as plt\n",
    "\n",
    "%matplotlib inline\n",
    "\n",
    "\n",
    "#打印游戏\n",
    "def show():\n",
    "    plt.imshow(env.render())\n",
    "    plt.show()\n",
    "\n",
    "\n",
    "show()"
   ]
  },
  {
   "attachments": {},
   "cell_type": "markdown",
   "metadata": {},
   "source": [
    "改2：离散熵用求和\n",
    "代码位置：ModelAction 类中，计算动作熵的方式从单一动作的负对数概率改为基于整个动作分布的熵求和。\n",
    "修改意义：\n",
    "\n",
    "背景：SAC算法的核心是最大化策略的熵，以鼓励探索。熵的计算需要考虑整个动作分布的概率，而不仅仅是采样动作的概率。离散动作空间的熵公式为：$ H(\\pi) = -\\sum_a \\pi(a|s) \\log \\pi(a|s) $。\n",
    "作用：\n",
    "\n",
    "原代码仅计算采样动作的熵（entropy = -log_prob），忽略了动作分布的整体特性，可能导致熵估计偏低，探索不足。\n",
    "修改后使用整个动作分布的熵公式（entropy = -prob * torch.log(prob + 1e-8).sum(dim=1)），更准确地反映了策略的随机性，符合SAC算法的熵正则化目标。\n",
    "\n",
    "\n",
    "效果：更准确的熵计算增强了探索能力，使策略更倾向于尝试不同动作，从而避免过早收敛到次优解。"
   ]
  },
  {
   "cell_type": "code",
   "execution_count": 6,
   "metadata": {},
   "outputs": [],
   "source": [
    "import torch\n",
    "import random\n",
    "\n",
    "\n",
    "class ModelAction(torch.nn.Module):\n",
    "    def __init__(self):\n",
    "        super().__init__()\n",
    "        self.model = torch.nn.Sequential(\n",
    "                    torch.nn.Linear(4, 128),\n",
    "                    torch.nn.ReLU(),\n",
    "                    torch.nn.Linear(128, 2),\n",
    "                    torch.nn.Softmax(dim=1),\n",
    "                )\n",
    "\n",
    "    def forward(self, state):\n",
    "        prob = self.model(state)  \n",
    "\n",
    "        # 采样动作\n",
    "        action = [random.choices(range(2), weights=p.tolist(), k=1)[0] for p in prob]  # 采样一个动作\n",
    "\n",
    "        # 计算熵\n",
    "        # prob[0, action] 是采样动作 action 的概率\n",
    "        #log_prob = torch.log(prob + 1e-7)  # 避免 log(0) 加小 epsilon\n",
    "        #entropy = -log_prob  # 单个动作的熵贡献，-log π(a|s)\n",
    "\n",
    "        # 改2：离散熵用求和\n",
    "        #[b, 2]\n",
    "        entropy = prob * torch.log(prob + 1e-8)\n",
    "\n",
    "        #所有动作的熵求和\n",
    "        #[b, 2] -> [b, 1]\n",
    "        entropy = -entropy.sum(dim=1, keepdim=True)\n",
    "        # 或者更准确的熵估计（基于整个分布）\n",
    "        # 熵 = -∑ π(a|s) log π(a|s)，可以使用 prob 直接计算期望\n",
    "        #entropy = -torch.sum(prob * torch.log(prob + 1e-7))  # 整个分布的熵\n",
    "\n",
    "        return action, entropy.reshape(-1,1), prob\n",
    "\n",
    "\n",
    "model_action = ModelAction()\n",
    "model_action = ModelAction().to(device)\n",
    "\n",
    "#model_action(torch.randn(2,4))"
   ]
  },
  {
   "attachments": {},
   "cell_type": "markdown",
   "metadata": {},
   "source": [
    "改4：输出是二维以匹配后面的与prob相乘\n",
    "代码位置：ModelValue 类中，价值网络输出从1维改为2维。\n",
    "修改意义：\n",
    "背景：在离散动作空间的SAC中，价值网络需要为每个动作输出一个Q值（对应于动作空间的维度）。CartPole-v1的动作空间是离散的（**2个动作：左或右**），因此价值网络的输出需要是2维，以匹配动作概率的维度。\n",
    "作用：\n",
    "原代码中价值网络输出可能是1维，无法与动作概率（2维）进行点乘或加权操作。\n",
    "修改后，价值网络输出2维Q值（对应两个动作），可以与动作概率分布（prob）逐元素相乘，计算期望价值。\n",
    "效果：这一修改使价值网络的输出与动作概率分布兼容，保证了策略损失和价值损失的计算正确性。\n",
    "\n",
    "\n",
    "改9：删去一层\n",
    "代码位置：ModelValue 类中，删去价值网络中的一层隐藏层。\n",
    "修改意义：\n",
    "背景：神经网络的深度和复杂度需要与任务的复杂性匹配。CartPole-v1是一个相对简单的环境，过深的网络可能导致过拟合或训练困难。\n",
    "作用：\n",
    "删除一层隐藏层（从多层简化为两层：Linear(4, 128) -> ReLU -> Linear(128, 2)），降低了价值网络的复杂度，减少了过拟合风险。\n",
    "简化网络结构可能使梯度传播更稳定，适合CartPole-v1的简单状态空间（4维）。\n",
    "效果：减少网络复杂性提高了训练效率和稳定性，适合任务需求。\n",
    "**实际运行时，多加的这一层反而导致训练效果变差**\n",
    "\n",
    "改10：去掉动作输入\n",
    "代码位置：ModelValue 类中，去掉动作输入，使价值网络仅接受状态输入。\n",
    "修改意义：\n",
    "背景：SAC算法中，价值网络（Q网络）通常为每个动作输出一个Q值（即$ Q(s,a) $），但在离散动作空间中，Q网络可以设计为仅接受状态输入，输出所有动作的Q值向量。这种设计在CartPole-v1（动作空间为2）中是可行的。\n",
    "作用：\n",
    "原代码中，价值网络将状态和动作拼接作为输入（例如输入维度为5，可能包含4维状态+1维动作）。这要求网络为每个状态-动作对单独预测Q值，增加了模型复杂度，且可能引入不必要的噪声，因为动作信息可以通过输出维度隐式建模。\n",
    "修改后，价值网络仅接受4维状态输入，输出2维Q值（对应两个动作），简化了网络结构，直接预测所有动作的Q值。\n",
    "效果：这一修改降低了模型的输入复杂性，使价值网络更专注于学习状态到Q值的映射，减少了过拟合风险，提高了训练稳定性。\n",
    "**加上动作输入后，训练效果其差**"
   ]
  },
  {
   "cell_type": "code",
   "execution_count": 7,
   "metadata": {},
   "outputs": [
    {
     "data": {
      "text/plain": [
       "([1, 1],\n",
       " tensor([[0.6931],\n",
       "         [0.6921]], device='cuda:0', grad_fn=<ViewBackward0>),\n",
       " tensor([[0.4982, 0.5018],\n",
       "         [0.4773, 0.5227]], device='cuda:0', grad_fn=<SoftmaxBackward0>))"
      ]
     },
     "execution_count": 7,
     "metadata": {},
     "output_type": "execute_result"
    }
   ],
   "source": [
    "class ModelValue(torch.nn.Module):\n",
    "    def __init__(self):\n",
    "        super().__init__()\n",
    "        self.sequential = torch.nn.Sequential(\n",
    "            torch.nn.Linear(4, 128),#改10：去掉动作输入\n",
    "            torch.nn.ReLU(),\n",
    "            #torch.nn.Linear(128, 128),\n",
    "            #torch.nn.ReLU(),#改9：删去一层\n",
    "            # 改4：输出是二维以匹配后面的与prob相乘\n",
    "            torch.nn.Linear(128, 2),\n",
    "        )\n",
    "\n",
    "    def forward(self, state):\n",
    "        #[b, 5] -> [b, 1]\n",
    "        return self.sequential(state)\n",
    "\n",
    "\n",
    "model_value1 = ModelValue()\n",
    "model_value2 = ModelValue()\n",
    "\n",
    "model_value_next1 = ModelValue()\n",
    "model_value_next2 = ModelValue()\n",
    "\n",
    "# 初始化模型并移动到GPU\n",
    "model_value1 = ModelValue().to(device)\n",
    "model_value2 = ModelValue().to(device)\n",
    "model_value_next1 = ModelValue().to(device)\n",
    "model_value_next2 = ModelValue().to(device)\n",
    "\n",
    "model_value_next1.load_state_dict(model_value1.state_dict())\n",
    "model_value_next2.load_state_dict(model_value2.state_dict())\n",
    "\n",
    "# 测试模型\n",
    "model_value1(torch.randn(2, 4).to(device))\n",
    "model_action(torch.randn(2, 4).to(device))\n"
   ]
  },
  {
   "cell_type": "code",
   "execution_count": 8,
   "metadata": {},
   "outputs": [
    {
     "data": {
      "text/plain": [
       "[1]"
      ]
     },
     "execution_count": 8,
     "metadata": {},
     "output_type": "execute_result"
    }
   ],
   "source": [
    "import numpy as np\n",
    "\n",
    "\n",
    "def get_action(state):\n",
    "    state = torch.FloatTensor(state).reshape(1, 4).to(device)\n",
    "    #[1, 4] -> [1, 2]\n",
    "    action, _, __ = model_action(state)\n",
    "\n",
    "    return action\n",
    "\n",
    "\n",
    "get_action([1, 2, 3, 4])"
   ]
  },
  {
   "attachments": {},
   "cell_type": "markdown",
   "metadata": {},
   "source": [
    "改1：要收集足够多的数据\n",
    "代码位置：update_data 函数中，循环收集至少200条数据，并限制样本池大小为10000。\n",
    "\n",
    "修改意义：\n",
    "\n",
    "背景：SAC是一种基于经验回放（Replay Buffer）的强化学习算法，需要从环境中收集足够多的数据样本以保证策略和价值函数的训练稳定性。样本池过小会导致模型学习到的策略缺乏多样性，容易陷入局部最优。\n",
    "作用：\n",
    "通过确保每次更新至少收集200条新数据，增加了数据的多样性，有助于模型探索不同的状态-动作对，改善策略的泛化能力。\n",
    "限制样本池最大为10000条，避免内存占用过大，同时通过删除最旧的数据保持样本的新鲜度，适应环境动态变化。\n",
    "效果：这一修改保证了训练过程中有足够的数据支持，减少了过拟合的风险，提升了模型的稳定性。"
   ]
  },
  {
   "cell_type": "code",
   "execution_count": 9,
   "metadata": {},
   "outputs": [
    {
     "name": "stderr",
     "output_type": "stream",
     "text": [
      "/home/yuchen/miniconda3/envs/RL-py39/lib/python3.9/site-packages/gym/utils/passive_env_checker.py:233: DeprecationWarning: `np.bool8` is a deprecated alias for `np.bool_`.  (Deprecated NumPy 1.24)\n",
      "  if not isinstance(terminated, (bool, np.bool8)):\n"
     ]
    },
    {
     "data": {
      "text/plain": [
       "((209, 0), 209)"
      ]
     },
     "execution_count": 9,
     "metadata": {},
     "output_type": "execute_result"
    }
   ],
   "source": [
    "#样本池\n",
    "datas = []\n",
    "\n",
    "\n",
    "### 改1：要收集足够多的数据\n",
    "#向样本池中添加N条数据,删除M条最古老的数据\n",
    "def update_data():\n",
    "    old_count = len(datas)\n",
    "\n",
    "    #玩到新增了N个数据为止\n",
    "    while len(datas) - old_count < 200:\n",
    "        #初始化游戏\n",
    "        state = env.reset()\n",
    "\n",
    "        #玩到游戏结束为止\n",
    "        over = False\n",
    "        while not over:\n",
    "            #根据当前状态得到一个动作\n",
    "            action = get_action(state)\n",
    "\n",
    "            #执行动作,得到反馈\n",
    "            next_state, reward, over, _ = env.step(action[0])\n",
    "\n",
    "            #记录数据样本\n",
    "            datas.append((state, action, reward, next_state, over))\n",
    "\n",
    "            #更新游戏状态,开始下一个动作\n",
    "            state = next_state\n",
    "\n",
    "    update_count = len(datas) - old_count\n",
    "    drop_count = max(len(datas) - 10000, 0)\n",
    "\n",
    "    #数据上限,超出时从最古老的开始删除\n",
    "    while len(datas) > 10000:\n",
    "        datas.pop(0)\n",
    "\n",
    "    return update_count, drop_count\n",
    "\n",
    "\n",
    "update_data(), len(datas)"
   ]
  },
  {
   "attachments": {},
   "cell_type": "markdown",
   "metadata": {},
   "source": [
    "改8： 返回数据类型 action F->L reward:L->F\n",
    "类型没改好，动作只有0,1所以是Long整形，reward是奖励用浮点数"
   ]
  },
  {
   "cell_type": "code",
   "execution_count": 10,
   "metadata": {},
   "outputs": [
    {
     "name": "stderr",
     "output_type": "stream",
     "text": [
      "/tmp/ipykernel_9604/2539608082.py:8: UserWarning: Creating a tensor from a list of numpy.ndarrays is extremely slow. Please consider converting the list to a single numpy.ndarray with numpy.array() before converting to a tensor. (Triggered internally at /pytorch/torch/csrc/utils/tensor_new.cpp:254.)\n",
      "  state = torch.FloatTensor([i[0] for i in samples]).reshape(-1, 4).to(device)\n"
     ]
    },
    {
     "data": {
      "text/plain": [
       "(tensor([[ 0.0019, -0.7830,  0.1021,  1.3370],\n",
       "         [-0.0334, -0.7859,  0.1620,  1.4098],\n",
       "         [-0.0329, -0.5705,  0.1447,  1.0444],\n",
       "         [ 0.0373, -0.1792,  0.0140,  0.3150],\n",
       "         [-0.0190, -0.0239,  0.0488, -0.0079]], device='cuda:0'),\n",
       " tensor([[0],\n",
       "         [1],\n",
       "         [1],\n",
       "         [1],\n",
       "         [1]], device='cuda:0'),\n",
       " tensor([[1.],\n",
       "         [1.],\n",
       "         [1.],\n",
       "         [1.],\n",
       "         [1.]], device='cuda:0'),\n",
       " tensor([[-0.0138, -0.9793,  0.1288,  1.6598],\n",
       "         [-0.0491, -0.5931,  0.1902,  1.1718],\n",
       "         [-0.0444, -0.3776,  0.1656,  0.8004],\n",
       "         [ 0.0337,  0.0157,  0.0203,  0.0267],\n",
       "         [-0.0195,  0.1705,  0.0486, -0.2848]], device='cuda:0'),\n",
       " tensor([[0],\n",
       "         [0],\n",
       "         [0],\n",
       "         [0],\n",
       "         [0]], device='cuda:0'))"
      ]
     },
     "execution_count": 10,
     "metadata": {},
     "output_type": "execute_result"
    }
   ],
   "source": [
    "#获取一批数据样本\n",
    "def get_sample():\n",
    "    #从样本池中采样\n",
    "    samples = random.sample(datas, 64)\n",
    "\n",
    "    # 改8： 返回数据类型 action F->L reward:L->F\n",
    "    #[b, 4]\n",
    "    state = torch.FloatTensor([i[0] for i in samples]).reshape(-1, 4).to(device)\n",
    "    #[b, 1]\n",
    "    action = torch.LongTensor([i[1] for i in samples]).reshape(-1, 1).to(device)\n",
    "    #[b, 1]\n",
    "    reward = torch.FloatTensor([i[2] for i in samples]).reshape(-1, 1).to(device)\n",
    "    #[b, 4]\n",
    "    next_state = torch.FloatTensor([i[3] for i in samples]).reshape(-1, 4).to(device)\n",
    "    #[b, 1]\n",
    "    over = torch.LongTensor([i[4] for i in samples]).reshape(-1, 1).to(device)\n",
    "\n",
    "    return state, action, reward, next_state, over\n",
    "\n",
    "\n",
    "state, action, reward, next_state, over = get_sample()\n",
    "\n",
    "state[:5], action[:5], reward[:5], next_state[:5], over[:5]"
   ]
  },
  {
   "cell_type": "code",
   "execution_count": 11,
   "metadata": {},
   "outputs": [
    {
     "data": {
      "text/plain": [
       "11.0"
      ]
     },
     "execution_count": 11,
     "metadata": {},
     "output_type": "execute_result"
    }
   ],
   "source": [
    "from IPython import display\n",
    "\n",
    "\n",
    "def test(play):\n",
    "    #初始化游戏\n",
    "    state = env.reset()\n",
    "\n",
    "    #记录反馈值的和,这个值越大越好\n",
    "    reward_sum = 0\n",
    "\n",
    "    #玩到游戏结束为止\n",
    "    over = False\n",
    "    while not over:\n",
    "        #根据当前状态得到一个动作\n",
    "        action = get_action(state)\n",
    "\n",
    "        #执行动作,得到反馈\n",
    "        state, reward, over, _ = env.step(action[0])\n",
    "        reward_sum += reward\n",
    "\n",
    "        #打印动画\n",
    "        if play and random.random() < 0.2:  #跳帧\n",
    "            display.clear_output(wait=True)\n",
    "            show()\n",
    "\n",
    "    return reward_sum\n",
    "\n",
    "\n",
    "test(play=False)"
   ]
  },
  {
   "cell_type": "code",
   "execution_count": 12,
   "metadata": {},
   "outputs": [],
   "source": [
    "def soft_update(model, model_next):\n",
    "    for param, param_next in zip(model.parameters(), model_next.parameters()):\n",
    "        #以一个小的比例更新\n",
    "        value = param_next.data * 0.995 + param.data * 0.005\n",
    "        param_next.data.copy_(value)\n",
    "\n",
    "\n",
    "soft_update(torch.nn.Linear(4, 64), torch.nn.Linear(4, 64))"
   ]
  },
  {
   "cell_type": "code",
   "execution_count": 13,
   "metadata": {},
   "outputs": [
    {
     "data": {
      "text/plain": [
       "tensor(-4.6052, device='cuda:0', requires_grad=True)"
      ]
     },
     "execution_count": 13,
     "metadata": {},
     "output_type": "execute_result"
    }
   ],
   "source": [
    "import math\n",
    "\n",
    "#这也是一个可学习的参数\n",
    "alpha = torch.tensor(math.log(0.01), device=device)\n",
    "alpha.requires_grad = True\n",
    "\n",
    "alpha"
   ]
  },
  {
   "attachments": {},
   "cell_type": "markdown",
   "metadata": {},
   "source": [
    "改5：二维的value和prob结合求其期望\n",
    "代码位置：get_target 函数中，target价值按动作概率加权求和。\n",
    "修改意义：\n",
    "\n",
    "背景：SAC算法的目标价值（target）需要考虑下一状态的动作分布，计算期望Q值并加上熵正则化项。公式为：$ \\mathbb{E}_{\\pi(a'|s')}[Q(s',a') - \\alpha \\log \\pi(a'|s')] $。\n",
    "作用：\n",
    "\n",
    "原代码直接使用单一动作的Q值，忽略了动作分布的期望。\n",
    "修改后，通过将价值（target）与动作概率（prob）相乘并求和，计算下一状态的期望Q值，并加上熵项（target += alpha.exp() * entropy）。\n",
    "\n",
    "\n",
    "效果：这一修改确保了目标价值的计算符合SAC算法的理论框架，增强了训练的稳定性。"
   ]
  },
  {
   "cell_type": "code",
   "execution_count": 14,
   "metadata": {},
   "outputs": [
    {
     "data": {
      "text/plain": [
       "torch.Size([64, 1])"
      ]
     },
     "execution_count": 14,
     "metadata": {},
     "output_type": "execute_result"
    }
   ],
   "source": [
    "def get_target(reward, next_state, over):\n",
    "    #首先使用model_action计算动作和动作的熵\n",
    "    #[b, 4] -> [b, 1],[b, 1]\n",
    "    action, entropy, prob= model_action(next_state)\n",
    "\n",
    "    #评估next_state的价值\n",
    "    #[b, 4],[b, 1] -> [b, 1]\n",
    "    target1 = model_value_next1(next_state)\n",
    "    target2 = model_value_next2(next_state)\n",
    "\n",
    "    #取价值小的,这是出于稳定性考虑\n",
    "    #[b, 1]\n",
    "    target = torch.min(target1, target2)\n",
    "\n",
    "    # 改5：二维的value和prob结合求其期望\n",
    "    target = (prob * target)\n",
    "    target = target.sum(dim=1, keepdim=True)\n",
    "\n",
    "    #exp和log互为反操作,这里是把alpha还原了\n",
    "    #这里的操作是在target上加上了动作的熵,alpha作为权重系数\n",
    "    #[b, 1] - [b, 1] -> [b, 1]\n",
    "    target += alpha.exp() * entropy\n",
    "\n",
    "    #[b, 1]\n",
    "    target *= 0.99\n",
    "    target *= (1 - over)\n",
    "    target += reward\n",
    "\n",
    "    return target\n",
    "\n",
    "\n",
    "get_target(reward, next_state, over).shape"
   ]
  },
  {
   "attachments": {},
   "cell_type": "markdown",
   "metadata": {},
   "source": [
    "改3：熵求和后变为1x1的了，value也要加权求和\n",
    "代码位置：get_loss_action 函数中，value按动作概率加权求和。\n",
    "修改意义：\n",
    "\n",
    "背景：SAC算法中，动作策略的损失函数需要考虑状态-动作对的价值，而价值函数的输出需要与动作概率结合，计算期望价值。\n",
    "作用：\n",
    "\n",
    "原代码可能未正确对value进行加权，导致动作策略的损失函数无法准确反映动作分布的期望价值。\n",
    "修改后，value按动作概率加权（value *= prob; value = value.sum(dim=1)），计算的是动作策略的期望价值，这与SAC算法中策略优化的目标一致，即优化 $ \\mathbb{E}_{\\pi(a|s)}[Q(s,a) - \\alpha \\log \\pi(a|s)] $。\n",
    "\n",
    "\n",
    "效果：加权求和使动作策略的损失更贴近理论目标，提升了策略优化的准确性，促进了收敛。"
   ]
  },
  {
   "cell_type": "code",
   "execution_count": 15,
   "metadata": {},
   "outputs": [
    {
     "data": {
      "text/plain": [
       "(tensor(0.2542, device='cuda:0', grad_fn=<MeanBackward0>),\n",
       " tensor([[0.6912],\n",
       "         [0.6910],\n",
       "         [0.6913],\n",
       "         [0.6915],\n",
       "         [0.6925],\n",
       "         [0.6931],\n",
       "         [0.6913],\n",
       "         [0.6931],\n",
       "         [0.6906],\n",
       "         [0.6930],\n",
       "         [0.6931],\n",
       "         [0.6912],\n",
       "         [0.6931],\n",
       "         [0.6930],\n",
       "         [0.6931],\n",
       "         [0.6929],\n",
       "         [0.6926],\n",
       "         [0.6931],\n",
       "         [0.6927],\n",
       "         [0.6926],\n",
       "         [0.6931],\n",
       "         [0.6930],\n",
       "         [0.6931],\n",
       "         [0.6910],\n",
       "         [0.6930],\n",
       "         [0.6919],\n",
       "         [0.6921],\n",
       "         [0.6931],\n",
       "         [0.6930],\n",
       "         [0.6931],\n",
       "         [0.6931],\n",
       "         [0.6912],\n",
       "         [0.6918],\n",
       "         [0.6930],\n",
       "         [0.6930],\n",
       "         [0.6931],\n",
       "         [0.6926],\n",
       "         [0.6912],\n",
       "         [0.6920],\n",
       "         [0.6931],\n",
       "         [0.6930],\n",
       "         [0.6927],\n",
       "         [0.6930],\n",
       "         [0.6930],\n",
       "         [0.6913],\n",
       "         [0.6930],\n",
       "         [0.6931],\n",
       "         [0.6921],\n",
       "         [0.6916],\n",
       "         [0.6930],\n",
       "         [0.6931],\n",
       "         [0.6914],\n",
       "         [0.6930],\n",
       "         [0.6925],\n",
       "         [0.6908],\n",
       "         [0.6931],\n",
       "         [0.6927],\n",
       "         [0.6914],\n",
       "         [0.6916],\n",
       "         [0.6925],\n",
       "         [0.6925],\n",
       "         [0.6912],\n",
       "         [0.6922],\n",
       "         [0.6925]], device='cuda:0', grad_fn=<ViewBackward0>))"
      ]
     },
     "execution_count": 15,
     "metadata": {},
     "output_type": "execute_result"
    }
   ],
   "source": [
    "def get_loss_action(state):\n",
    "    #计算action和熵\n",
    "    #[b, 4] -> [b, 1],[b, 1]\n",
    "    action, entropy, prob = model_action(state)\n",
    "\n",
    "    #使用两个value网络评估action的价值\n",
    "    #[b, 4],[b, 1] -> [b, 1]\n",
    "    value1 = model_value1(state)\n",
    "    value2 = model_value2(state)\n",
    "\n",
    "    #取价值小的,出于稳定性考虑\n",
    "    #[b, 1]\n",
    "    value = torch.min(value1, value2)\n",
    "\n",
    "    #alpha还原后乘以熵,这个值期望的是越大越好,但是这里是计算loss,所以符号取反\n",
    "    #[1] - [b, 1] -> [b, 1]\n",
    "    loss_action = -alpha.exp() * entropy\n",
    "\n",
    "    # 改3：熵求和后变为1x1的了，value也要加权求和\n",
    "    #按概率对value进行加权\n",
    "    value *= prob\n",
    "    value = value.sum(dim=1, keepdim=True)\n",
    "    #减去value,所以value越大越好,这样loss就会越小\n",
    "    loss_action -= value #图片公式里用了V，这里没用到\n",
    "\n",
    "    return loss_action.mean(), entropy\n",
    "\n",
    "\n",
    "get_loss_action(state)"
   ]
  },
  {
   "attachments": {},
   "cell_type": "markdown",
   "metadata": {},
   "source": [
    "改6：取对应动作的value值 [b,2]->[b,1]\n",
    "代码位置：train 函数中，价值损失计算时使用gather提取对应动作的Q值。\n",
    "\n",
    "修改意义：\n",
    "\n",
    "背景：价值网络的损失函数需要比较预测的Q值与目标Q值，而预测的Q值需要对应实际采取的动作。\n",
    "作用：\n",
    "原代码未能正确匹配实际动作。\n",
    "修改后，使用gather函数根据实际动作索引（action）提取对应的Q值，确保价值损失计算的是实际执行动作的Q值与目标的差异。\n",
    "效果：这一修改提高了价值网络的训练精度，使其更准确地逼近真实Q值。\n",
    "\n",
    "改7：学习率大小\n",
    "代码位置：train 函数中，调整优化器的学习率。\n",
    "\n",
    "修改意义：\n",
    "\n",
    "背景：学习率是优化器的重要超参数，过高可能导致训练不稳定，过低可能导致收敛过慢。SAC算法通常需要为动作网络和价值网络设置不同的学习率。\n",
    "作用：\n",
    "动作网络的学习率设为1e-3，价值网络为1e-2，alpha为1e-2，这些值是直接复制参考代码的值。\n",
    "合理的学习率平衡了动作策略和价值函数的更新速度，避免某一部分更新过快导致训练失衡。\n",
    "效果：优化学习率提高了训练的稳定性，加速了收敛。"
   ]
  },
  {
   "cell_type": "code",
   "execution_count": 16,
   "metadata": {},
   "outputs": [
    {
     "name": "stdout",
     "output_type": "stream",
     "text": [
      "0 411 0.002760456409305334 10.3\n",
      "10 2677 0.00010094821482198313 191.6\n",
      "20 5598 2.472913001838606e-05 163.5\n",
      "30 8715 8.06658499641344e-06 191.4\n",
      "40 10000 2.9141745017113863e-06 176.2\n",
      "50 10000 1.0631489431034424e-06 196.2\n",
      "60 10000 3.9388544337271014e-07 181.1\n",
      "70 10000 1.4747030263606575e-07 181.2\n",
      "80 10000 5.5894361139507964e-08 162.9\n",
      "90 10000 2.073456961682041e-08 196.6\n"
     ]
    }
   ],
   "source": [
    "def train():\n",
    "    #改7： 学习率大小\n",
    "    optimizer_action = torch.optim.Adam(model_action.parameters(), lr=1e-3)\n",
    "    optimizer_value1 = torch.optim.Adam(model_value1.parameters(), lr=1e-2)\n",
    "    optimizer_value2 = torch.optim.Adam(model_value2.parameters(), lr=1e-2)\n",
    "\n",
    "    #alpha也是要更新的参数,所以这里要定义优化器\n",
    "    optimizer_alpha = torch.optim.Adam([alpha], lr=1e-2)\n",
    "\n",
    "    loss_fn = torch.nn.MSELoss()\n",
    "\n",
    "    #训练N次\n",
    "    for epoch in range(100):\n",
    "        #更新N条数据\n",
    "        update_data()\n",
    "\n",
    "        #每次更新过数据后,学习N次\n",
    "        for i in range(200):\n",
    "            #采样一批数据\n",
    "            state, action, reward, next_state, over = get_sample()\n",
    "\n",
    "            #对reward偏移,为了便于训练\n",
    "            reward = (reward + 8) / 8\n",
    "\n",
    "            #计算target,这个target里已经考虑了动作的熵\n",
    "            #[b, 1]\n",
    "            target = get_target(reward, next_state, over)\n",
    "            target = target.detach()\n",
    "\n",
    "            # 改6：取对应动作的value值 [b,2]->[b,1]\n",
    "            #计算两个value\n",
    "            value1 = model_value1(state).gather(dim=1, index=action.to(torch.int64))\n",
    "            value2 = model_value2(state).gather(dim=1, index=action.to(torch.int64))\n",
    "\n",
    "            #计算两个loss,两个value的目标都是要贴近target\n",
    "            loss_value1 = loss_fn(value1, target)\n",
    "            loss_value2 = loss_fn(value2, target)\n",
    "\n",
    "            #更新参数\n",
    "            optimizer_value1.zero_grad()\n",
    "            loss_value1.backward()\n",
    "            optimizer_value1.step()\n",
    "\n",
    "            optimizer_value2.zero_grad()\n",
    "            loss_value2.backward()\n",
    "            optimizer_value2.step()\n",
    "\n",
    "            #使用model_value计算model_action的loss\n",
    "            loss_action, entropy = get_loss_action(state)\n",
    "            optimizer_action.zero_grad()\n",
    "            loss_action.backward()\n",
    "            optimizer_action.step()\n",
    "\n",
    "            #熵乘以alpha就是alpha的loss\n",
    "            #[b, 1] -> [1]\n",
    "            loss_alpha = (entropy + 1).detach() * alpha.exp()\n",
    "            loss_alpha = loss_alpha.mean()\n",
    "\n",
    "            #更新alpha值\n",
    "            optimizer_alpha.zero_grad()\n",
    "            loss_alpha.backward()\n",
    "            optimizer_alpha.step()\n",
    "\n",
    "            #增量更新next模型\n",
    "            soft_update(model_value1, model_value_next1)\n",
    "            soft_update(model_value2, model_value_next2)\n",
    "\n",
    "        if epoch % 10 == 0:\n",
    "            test_result = sum([test(play=False) for _ in range(10)]) / 10\n",
    "            print(epoch, len(datas), alpha.exp().item(), test_result)\n",
    "\n",
    "\n",
    "train()"
   ]
  },
  {
   "cell_type": "code",
   "execution_count": 24,
   "metadata": {},
   "outputs": [
    {
     "data": {
      "image/png": "[encoded data removed]",
      "text/plain": [
       "<Figure size 640x480 with 1 Axes>"
      ]
     },
     "metadata": {},
     "output_type": "display_data"
    },
    {
     "data": {
      "text/plain": [
       "200.0"
      ]
     },
     "execution_count": 24,
     "metadata": {},
     "output_type": "execute_result"
    }
   ],
   "source": [
    "test(play=True)"
   ]
  }
 ],
 "metadata": {
  "kernelspec": {
   "display_name": "RL-py39",
   "language": "python",
   "name": "python3"
  },
  "language_info": {
   "codemirror_mode": {
    "name": "ipython",
    "version": 3
   },
   "file_extension": ".py",
   "mimetype": "text/x-python",
   "name": "python",
   "nbconvert_exporter": "python",
   "pygments_lexer": "ipython3",
   "version": "3.9.23"
  },
  "orig_nbformat": 4
 },
 "nbformat": 4,
 "nbformat_minor": 2
}
